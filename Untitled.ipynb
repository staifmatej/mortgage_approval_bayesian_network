{
 "cells": [
  {
   "cell_type": "code",
   "execution_count": 1,
   "id": "c4b9ae1f-f104-43f7-8334-f8cd4d5ec3a2",
   "metadata": {},
   "outputs": [
    {
     "name": "stdout",
     "output_type": "stream",
     "text": [
      "\n",
      " ══════ Welcome to the BayesianHill & Co. Bank - Mortgage Approval System ══════ \n"
     ]
    },
    {
     "name": "stdin",
     "output_type": "stream",
     "text": [
      "\n",
      "Enter the interest rate at which we will lend the mortgage (from 0 to 0.27; default 0.05):  0.08\n"
     ]
    },
    {
     "name": "stdout",
     "output_type": "stream",
     "text": [
      "Note: At Bayesianhill Bank, we always provide a fixed interest rate for the entire duration of mortgage.\n"
     ]
    },
    {
     "name": "stdin",
     "output_type": "stream",
     "text": [
      "\n",
      "Enter the average net salary in the Czechia (default 40000 CZK):  35000\n"
     ]
    },
    {
     "name": "stdout",
     "output_type": "stream",
     "text": [
      "Note: Unless stated otherwise, the salary is assumed to be in Czech crowns.\n"
     ]
    },
    {
     "name": "stdin",
     "output_type": "stream",
     "text": [
      "\n",
      "Enter the age at which mortgage applicant will retire (default: 65 years old)  30\n",
      "\n",
      "Would you like to use your own dataset or generate a new one? (own/generate):  generate\n",
      "\n",
      "How many records should we generate? (default 100000):  \n"
     ]
    },
    {
     "name": "stdout",
     "output_type": "stream",
     "text": [
      "\n",
      "Generating realistic synthetic dataset with 100,000 records...\n",
      "\n"
     ]
    },
    {
     "data": {
      "application/vnd.jupyter.widget-view+json": {
       "model_id": "8c587d7d6163466b8b8674c041b281e7",
       "version_major": 2,
       "version_minor": 0
      },
      "text/plain": [
       "Output()"
      ]
     },
     "metadata": {},
     "output_type": "display_data"
    },
    {
     "data": {
      "text/html": [
       "<pre style=\"white-space:pre;overflow-x:auto;line-height:normal;font-family:Menlo,'DejaVu Sans Mono',consolas,'Courier New',monospace\"></pre>\n"
      ],
      "text/plain": []
     },
     "metadata": {},
     "output_type": "display_data"
    },
    {
     "name": "stdout",
     "output_type": "stream",
     "text": [
      "\n",
      "Training & Validate Gaussain Bayesain Network...\n",
      "☑ Data quality check passed: no extreme values found\n"
     ]
    },
    {
     "ename": "FileNotFoundError",
     "evalue": "[Errno 2] No such file or directory: 'diagram_photos/bayesian_network_default.png'",
     "output_type": "error",
     "traceback": [
      "\u001b[0;31m---------------------------------------------------------------------------\u001b[0m",
      "\u001b[0;31mFileNotFoundError\u001b[0m                         Traceback (most recent call last)",
      "File \u001b[0;32m~/Desktop/mortgage_approval_bayesian_network/mortgage_approval_bayesian_network/main.py:566\u001b[0m\n\u001b[1;32m    564\u001b[0m \u001b[38;5;28;01mif\u001b[39;00m \u001b[38;5;18m__name__\u001b[39m \u001b[38;5;241m==\u001b[39m \u001b[38;5;124m\"\u001b[39m\u001b[38;5;124m__main__\u001b[39m\u001b[38;5;124m\"\u001b[39m:\n\u001b[1;32m    565\u001b[0m     handler \u001b[38;5;241m=\u001b[39m InputHandler()\n\u001b[0;32m--> 566\u001b[0m     handler\u001b[38;5;241m.\u001b[39mmain()\n",
      "File \u001b[0;32m~/Desktop/mortgage_approval_bayesian_network/mortgage_approval_bayesian_network/main.py:453\u001b[0m, in \u001b[0;36mInputHandler.main\u001b[0;34m(self)\u001b[0m\n\u001b[1;32m    451\u001b[0m \u001b[38;5;250m\u001b[39m\u001b[38;5;124;03m\"\"\"Main program loop handling menu navigation and user interactions.\"\"\"\u001b[39;00m\n\u001b[1;32m    452\u001b[0m \u001b[38;5;66;03m# handle first-ever program running.\u001b[39;00m\n\u001b[0;32m--> 453\u001b[0m applicant_data \u001b[38;5;241m=\u001b[39m \u001b[38;5;28mself\u001b[39m\u001b[38;5;241m.\u001b[39mset_up_all()\n\u001b[1;32m    454\u001b[0m model_gbn \u001b[38;5;241m=\u001b[39m \u001b[38;5;28;01mNone\u001b[39;00m\n\u001b[1;32m    455\u001b[0m print_press_enter_to_continue()\n",
      "File \u001b[0;32m~/Desktop/mortgage_approval_bayesian_network/mortgage_approval_bayesian_network/main.py:543\u001b[0m, in \u001b[0;36mInputHandler.set_up_all\u001b[0;34m(self)\u001b[0m\n\u001b[1;32m    541\u001b[0m \u001b[38;5;28mself\u001b[39m\u001b[38;5;241m.\u001b[39mcollect_datasets_user_info()\n\u001b[1;32m    542\u001b[0m \u001b[38;5;28mself\u001b[39m\u001b[38;5;241m.\u001b[39mgenerate_csv_dataset()\n\u001b[0;32m--> 543\u001b[0m model_gbn \u001b[38;5;241m=\u001b[39m \u001b[38;5;28mself\u001b[39m\u001b[38;5;241m.\u001b[39mtrain_and_validate_gbn()\n\u001b[1;32m    544\u001b[0m mortgage_applicant_data \u001b[38;5;241m=\u001b[39m \u001b[38;5;28mself\u001b[39m\u001b[38;5;241m.\u001b[39mcollect_other_user_info()\n\u001b[1;32m    546\u001b[0m loan_amount \u001b[38;5;241m=\u001b[39m \u001b[38;5;28mself\u001b[39m\u001b[38;5;241m.\u001b[39mvalidate_input_numerical(\n\u001b[1;32m    547\u001b[0m     \u001b[38;5;124m\"\u001b[39m\u001b[38;5;130;01m\\n\u001b[39;00m\u001b[38;5;124mEnter loan amount (CZK): \u001b[39m\u001b[38;5;124m\"\u001b[39m,\n\u001b[1;32m    548\u001b[0m     min_val\u001b[38;5;241m=\u001b[39m\u001b[38;5;241m100000\u001b[39m,\n\u001b[1;32m    549\u001b[0m     max_val\u001b[38;5;241m=\u001b[39mTRILLION,\n\u001b[1;32m    550\u001b[0m     data_type\u001b[38;5;241m=\u001b[39m\u001b[38;5;28mint\u001b[39m\n\u001b[1;32m    551\u001b[0m )\n",
      "File \u001b[0;32m~/Desktop/mortgage_approval_bayesian_network/mortgage_approval_bayesian_network/main.py:106\u001b[0m, in \u001b[0;36mInputHandler.train_and_validate_gbn\u001b[0;34m(self)\u001b[0m\n\u001b[1;32m    104\u001b[0m \u001b[38;5;28mprint\u001b[39m(\u001b[38;5;124mf\u001b[39m\u001b[38;5;124m\"\u001b[39m\u001b[38;5;132;01m{\u001b[39;00mS_CYAN\u001b[38;5;132;01m}\u001b[39;00m\u001b[38;5;124mTraining & Validate Gaussain Bayesain Network...\u001b[39m\u001b[38;5;132;01m{\u001b[39;00mE_CYAN\u001b[38;5;132;01m}\u001b[39;00m\u001b[38;5;124m\"\u001b[39m)\n\u001b[1;32m    105\u001b[0m model_gbn \u001b[38;5;241m=\u001b[39m GaussianBayesianNetwork(\u001b[38;5;28;01mTrue\u001b[39;00m, \u001b[38;5;28mself\u001b[39m\u001b[38;5;241m.\u001b[39mcsv_path, \u001b[38;5;28mself\u001b[39m\u001b[38;5;241m.\u001b[39mavg_salary)\n\u001b[0;32m--> 106\u001b[0m model_gbn\u001b[38;5;241m.\u001b[39mcheck_model_gbn()\n\u001b[1;32m    107\u001b[0m \u001b[38;5;28;01mreturn\u001b[39;00m model_gbn\n",
      "File \u001b[0;32m~/Desktop/mortgage_approval_bayesian_network/mortgage_approval_bayesian_network/gaussian_bayesian_network.py:133\u001b[0m, in \u001b[0;36mGaussianBayesianNetwork.check_model_gbn\u001b[0;34m(self)\u001b[0m\n\u001b[1;32m    131\u001b[0m \u001b[38;5;28;01mdef\u001b[39;00m \u001b[38;5;21mcheck_model_gbn\u001b[39m(\u001b[38;5;28mself\u001b[39m):\n\u001b[1;32m    132\u001b[0m \u001b[38;5;250m    \u001b[39m\u001b[38;5;124;03m\"\"\"Validate the structure and connectivity of the Bayesian Network model.\"\"\"\u001b[39;00m\n\u001b[0;32m--> 133\u001b[0m     \u001b[38;5;28mself\u001b[39m\u001b[38;5;241m.\u001b[39mtrain_model()\n\u001b[1;32m    134\u001b[0m     \u001b[38;5;28;01mtry\u001b[39;00m:\n\u001b[1;32m    135\u001b[0m         \u001b[38;5;28mself\u001b[39m\u001b[38;5;241m.\u001b[39mloan_approval_model\u001b[38;5;241m.\u001b[39mcheck_model()\n",
      "File \u001b[0;32m~/Desktop/mortgage_approval_bayesian_network/mortgage_approval_bayesian_network/gaussian_bayesian_network.py:94\u001b[0m, in \u001b[0;36mGaussianBayesianNetwork.train_model\u001b[0;34m(self)\u001b[0m\n\u001b[1;32m     92\u001b[0m \u001b[38;5;250m\u001b[39m\u001b[38;5;124;03m\"\"\"Train the Gaussian Bayesian Network model using maximum likelihood estimation.\"\"\"\u001b[39;00m\n\u001b[1;32m     93\u001b[0m \u001b[38;5;28mself\u001b[39m\u001b[38;5;241m.\u001b[39mcheck_csv_data_quality()\n\u001b[0;32m---> 94\u001b[0m \u001b[38;5;28mself\u001b[39m\u001b[38;5;241m.\u001b[39msave_diagram_of_gbn()\n\u001b[1;32m     95\u001b[0m data \u001b[38;5;241m=\u001b[39m \u001b[38;5;28mself\u001b[39m\u001b[38;5;241m.\u001b[39mloader\u001b[38;5;241m.\u001b[39mget_all_data_numeric()\n\u001b[1;32m     97\u001b[0m \u001b[38;5;28mself\u001b[39m\u001b[38;5;241m.\u001b[39mloan_approval_model\u001b[38;5;241m.\u001b[39mfit(data)\n",
      "File \u001b[0;32m~/Desktop/mortgage_approval_bayesian_network/mortgage_approval_bayesian_network/gaussian_bayesian_network.py:82\u001b[0m, in \u001b[0;36mGaussianBayesianNetwork.save_diagram_of_gbn\u001b[0;34m(self)\u001b[0m\n\u001b[1;32m     80\u001b[0m \u001b[38;5;28;01mif\u001b[39;00m \u001b[38;5;28mself\u001b[39m\u001b[38;5;241m.\u001b[39msave_diagram:\n\u001b[1;32m     81\u001b[0m     viz \u001b[38;5;241m=\u001b[39m \u001b[38;5;28mself\u001b[39m\u001b[38;5;241m.\u001b[39mloan_approval_model\u001b[38;5;241m.\u001b[39mto_graphviz()\n\u001b[0;32m---> 82\u001b[0m     viz\u001b[38;5;241m.\u001b[39mdraw(\u001b[38;5;124m'\u001b[39m\u001b[38;5;124mdiagram_photos/bayesian_network_default.png\u001b[39m\u001b[38;5;124m'\u001b[39m, prog\u001b[38;5;241m=\u001b[39m\u001b[38;5;124m'\u001b[39m\u001b[38;5;124mdot\u001b[39m\u001b[38;5;124m'\u001b[39m)\n",
      "File \u001b[0;32m/opt/homebrew/Caskroom/miniconda/base/lib/python3.12/site-packages/pygraphviz/agraph.py:1611\u001b[0m, in \u001b[0;36mAGraph.draw\u001b[0;34m(self, path, format, prog, args)\u001b[0m\n\u001b[1;32m   1608\u001b[0m data \u001b[38;5;241m=\u001b[39m \u001b[38;5;28mself\u001b[39m\u001b[38;5;241m.\u001b[39m_run_prog(prog, args)\n\u001b[1;32m   1610\u001b[0m \u001b[38;5;28;01mif\u001b[39;00m path \u001b[38;5;129;01mis\u001b[39;00m \u001b[38;5;129;01mnot\u001b[39;00m \u001b[38;5;28;01mNone\u001b[39;00m:\n\u001b[0;32m-> 1611\u001b[0m     fh \u001b[38;5;241m=\u001b[39m \u001b[38;5;28mself\u001b[39m\u001b[38;5;241m.\u001b[39m_get_fh(path, \u001b[38;5;124m\"\u001b[39m\u001b[38;5;124mw+b\u001b[39m\u001b[38;5;124m\"\u001b[39m)\n\u001b[1;32m   1612\u001b[0m     fh\u001b[38;5;241m.\u001b[39mwrite(data)\n\u001b[1;32m   1613\u001b[0m     \u001b[38;5;28;01mif\u001b[39;00m \u001b[38;5;28misinstance\u001b[39m(path, \u001b[38;5;28mstr\u001b[39m \u001b[38;5;241m|\u001b[39m pathlib\u001b[38;5;241m.\u001b[39mPath):\n",
      "File \u001b[0;32m/opt/homebrew/Caskroom/miniconda/base/lib/python3.12/site-packages/pygraphviz/agraph.py:1787\u001b[0m, in \u001b[0;36mAGraph._get_fh\u001b[0;34m(self, path, mode)\u001b[0m\n\u001b[1;32m   1785\u001b[0m         fh \u001b[38;5;241m=\u001b[39m os\u001b[38;5;241m.\u001b[39mpopen(\u001b[38;5;124m\"\u001b[39m\u001b[38;5;124mbzcat \u001b[39m\u001b[38;5;124m\"\u001b[39m \u001b[38;5;241m+\u001b[39m path)  \u001b[38;5;66;03m# probably not portable\u001b[39;00m\n\u001b[1;32m   1786\u001b[0m     \u001b[38;5;28;01melse\u001b[39;00m:\n\u001b[0;32m-> 1787\u001b[0m         fh \u001b[38;5;241m=\u001b[39m \u001b[38;5;28mopen\u001b[39m(path, mode\u001b[38;5;241m=\u001b[39mmode)\n\u001b[1;32m   1788\u001b[0m \u001b[38;5;28;01melif\u001b[39;00m \u001b[38;5;28mhasattr\u001b[39m(path, \u001b[38;5;124m\"\u001b[39m\u001b[38;5;124mwrite\u001b[39m\u001b[38;5;124m\"\u001b[39m):\n\u001b[1;32m   1789\u001b[0m     \u001b[38;5;66;03m# Note, mode of file handle is unchanged.\u001b[39;00m\n\u001b[1;32m   1790\u001b[0m     fh \u001b[38;5;241m=\u001b[39m path\n",
      "\u001b[0;31mFileNotFoundError\u001b[0m: [Errno 2] No such file or directory: 'diagram_photos/bayesian_network_default.png'"
     ]
    }
   ],
   "source": [
    "import warnings\n",
    "from IPython.core.interactiveshell import InteractiveShell\n",
    "\n",
    "InteractiveShell.ast_node_interactivity = \"all\"\n",
    "warnings.filterwarnings('ignore', category=RuntimeWarning) \n",
    "\n",
    "%run mortgage_approval_bayesian_network/main.py"
   ]
  },
  {
   "cell_type": "code",
   "execution_count": null,
   "id": "824ad2e0-5f64-45e1-b591-dba06034dadb",
   "metadata": {},
   "outputs": [],
   "source": []
  }
 ],
 "metadata": {
  "kernelspec": {
   "display_name": "Python 3 (ipykernel)",
   "language": "python",
   "name": "python3"
  },
  "language_info": {
   "codemirror_mode": {
    "name": "ipython",
    "version": 3
   },
   "file_extension": ".py",
   "mimetype": "text/x-python",
   "name": "python",
   "nbconvert_exporter": "python",
   "pygments_lexer": "ipython3",
   "version": "3.12.2"
  }
 },
 "nbformat": 4,
 "nbformat_minor": 5
}
